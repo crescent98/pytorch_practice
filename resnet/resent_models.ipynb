{
 "cells": [
  {
   "cell_type": "markdown",
   "metadata": {},
   "source": [
    "PyTorch ResNet: Building, Training and Scaling Residual Networks on PyTorch"
   ]
  },
  {
   "cell_type": "markdown",
   "metadata": {},
   "source": [
    "from: https://missinglink.ai/guides/pytorch/pytorch-resnet-building-training-scaling-residual-networks-pytorch/"
   ]
  },
  {
   "cell_type": "code",
   "execution_count": 16,
   "metadata": {},
   "outputs": [],
   "source": [
    "import torch\n",
    "from torch import Tensor\n",
    "import torch.nn as nn\n",
    "#from .utils import load_state_dict_from_url\n",
    "from typing import Type, Any, Callable, Union, List, Optional\n",
    "import torchvision"
   ]
  },
  {
   "cell_type": "code",
   "execution_count": 6,
   "metadata": {},
   "outputs": [],
   "source": [
    "__all__ = ['ResNet', 'resnet18', 'resnet34', 'resnet50', 'resnet101',\n",
    "           'resnet152', 'resnext50_32x4d', 'resnext101_32x8d',\n",
    "           'wide_resnet50_2', 'wide_resnet101_2']"
   ]
  },
  {
   "cell_type": "code",
   "execution_count": 12,
   "metadata": {},
   "outputs": [],
   "source": [
    "class BasicBlock(nn.Module):\n",
    "    expansion = 1\n",
    "    \n",
    "    def __init__(self, in_planes, planes, stride=1):\n",
    "        super(BasicBlock, self).__init__()\n",
    "        self.conv1 = nn.Conv2d(in_planes, planes, kernel_size=3, stride=stride, padding=1,\n",
    "                              bias=False)\n",
    "        self.bn1 = nn.BatchNorm2d(planes)\n",
    "        self.conv2 = nn.Conv2d(planes, planes, kernel_size=3, stride=1, padding=1, bias=False)\n",
    "        self.bn2 = nn.BatchNorm2d(planes)\n",
    "        \n",
    "        self.shortcut = nn.Sequential()\n",
    "        if stride != 1 or in_planes != self.expansion*planes:\n",
    "            self.shortcut = nn.Sequential(\n",
    "                nn.Conv2d(in_planes, self.expansion*planes, kernel_size=1, stride=stride,\n",
    "                         bias=False),\n",
    "                nn.BatchNorm2d(self.expansion*planes))                             "
   ]
  },
  {
   "cell_type": "code",
   "execution_count": 14,
   "metadata": {},
   "outputs": [],
   "source": [
    "class ResNet(nn.Module):\n",
    "    def __init__(self, block, num_blocks, num_classes=10):\n",
    "        super(ResNet, self).__init__()\n",
    "        self.in_planes = 64\n",
    "        \n",
    "        self.conv1 = nn.Conv2d(3, 64, kernel_size=3, stride=1, padding=1, bias=False)\n",
    "        self.bn1 = nn.BatchNorm2d(64)\n",
    "        self.layer1 = self._make_layer(block, 64, num_blocks[0], stride=1)\n",
    "        self.layer2 = self._make_layer(block, 128, num_blocks[1], stride=2)\n",
    "        self.layer3 = self._make_layer(block, 256, num_blocks[2], stride=2)\n",
    "        self.layer4 = self._make_layer(block, 512, num_blocks[3], stride=2)\n",
    "        self.linear = nn.Linear(512*block.expansion, num_classes)\n",
    "        \n",
    "        \n",
    "    def _make_layer(self, block, planes, num_blocks, stride):\n",
    "        strides = [stride] + [1]*(num_blocks-1)\n",
    "        layers = []\n",
    "        for stride in strides:\n",
    "            layers.append(block(self.in_planes, planes, stride))\n",
    "            self.in_planes = planes * block.expansion\n",
    "        return nn.Sequential(*layers)\n",
    "    "
   ]
  },
  {
   "cell_type": "markdown",
   "metadata": {},
   "source": [
    "Using ResNet with Transfer Learning"
   ]
  },
  {
   "cell_type": "code",
   "execution_count": 17,
   "metadata": {},
   "outputs": [
    {
     "name": "stderr",
     "output_type": "stream",
     "text": [
      "Downloading: \"https://download.pytorch.org/models/resnet50-19c8e357.pth\" to /root/.cache/torch/checkpoints/resnet50-19c8e357.pth\n"
     ]
    },
    {
     "data": {
      "application/vnd.jupyter.widget-view+json": {
       "model_id": "e34f5c0ce0954484a091532464cf5929",
       "version_major": 2,
       "version_minor": 0
      },
      "text/plain": [
       "HBox(children=(FloatProgress(value=0.0, max=102502400.0), HTML(value='')))"
      ]
     },
     "metadata": {},
     "output_type": "display_data"
    },
    {
     "name": "stdout",
     "output_type": "stream",
     "text": [
      "\n"
     ]
    },
    {
     "ename": "NameError",
     "evalue": "name 'n_class' is not defined",
     "output_type": "error",
     "traceback": [
      "\u001b[0;31m---------------------------------------------------------------------------\u001b[0m",
      "\u001b[0;31mNameError\u001b[0m                                 Traceback (most recent call last)",
      "\u001b[0;32m<ipython-input-17-566a2e9b8db4>\u001b[0m in \u001b[0;36m<module>\u001b[0;34m\u001b[0m\n\u001b[1;32m      2\u001b[0m \u001b[0;34m\u001b[0m\u001b[0m\n\u001b[1;32m      3\u001b[0m \u001b[0mnum_ftrs\u001b[0m \u001b[0;34m=\u001b[0m \u001b[0mmodel_conv\u001b[0m\u001b[0;34m.\u001b[0m\u001b[0mfc\u001b[0m\u001b[0;34m.\u001b[0m\u001b[0min_features\u001b[0m\u001b[0;34m\u001b[0m\u001b[0;34m\u001b[0m\u001b[0m\n\u001b[0;32m----> 4\u001b[0;31m \u001b[0mmodel_conv\u001b[0m\u001b[0;34m.\u001b[0m\u001b[0mfc\u001b[0m \u001b[0;34m=\u001b[0m \u001b[0mnn\u001b[0m\u001b[0;34m.\u001b[0m\u001b[0mLinear\u001b[0m\u001b[0;34m(\u001b[0m\u001b[0mnum_ftrs\u001b[0m\u001b[0;34m,\u001b[0m \u001b[0mn_class\u001b[0m\u001b[0;34m)\u001b[0m\u001b[0;34m\u001b[0m\u001b[0;34m\u001b[0m\u001b[0m\n\u001b[0m",
      "\u001b[0;31mNameError\u001b[0m: name 'n_class' is not defined"
     ]
    }
   ],
   "source": [
    "model_conv = torchvision.models.resnet50(pretrained=True)\n",
    "\n",
    "num_ftrs = model_conv.fc.in_features\n",
    "model_conv.fc = nn.Linear(num_ftrs, n_class)"
   ]
  },
  {
   "cell_type": "code",
   "execution_count": 18,
   "metadata": {},
   "outputs": [
    {
     "name": "stdout",
     "output_type": "stream",
     "text": [
      "conv1 weight\n",
      "bn1 weight\n",
      "bn1 bias\n",
      "layer1 0.conv1.weight\n",
      "layer1 0.bn1.weight\n",
      "layer1 0.bn1.bias\n",
      "layer1 0.conv2.weight\n",
      "layer1 0.bn2.weight\n",
      "layer1 0.bn2.bias\n",
      "layer1 0.conv3.weight\n",
      "layer1 0.bn3.weight\n",
      "layer1 0.bn3.bias\n",
      "layer1 0.downsample.0.weight\n",
      "layer1 0.downsample.1.weight\n",
      "layer1 0.downsample.1.bias\n",
      "layer1 1.conv1.weight\n",
      "layer1 1.bn1.weight\n",
      "layer1 1.bn1.bias\n",
      "layer1 1.conv2.weight\n",
      "layer1 1.bn2.weight\n",
      "layer1 1.bn2.bias\n",
      "layer1 1.conv3.weight\n",
      "layer1 1.bn3.weight\n",
      "layer1 1.bn3.bias\n",
      "layer1 2.conv1.weight\n",
      "layer1 2.bn1.weight\n",
      "layer1 2.bn1.bias\n",
      "layer1 2.conv2.weight\n",
      "layer1 2.bn2.weight\n",
      "layer1 2.bn2.bias\n",
      "layer1 2.conv3.weight\n",
      "layer1 2.bn3.weight\n",
      "layer1 2.bn3.bias\n",
      "layer2 0.conv1.weight\n",
      "layer2 0.bn1.weight\n",
      "layer2 0.bn1.bias\n",
      "layer2 0.conv2.weight\n",
      "layer2 0.bn2.weight\n",
      "layer2 0.bn2.bias\n",
      "layer2 0.conv3.weight\n",
      "layer2 0.bn3.weight\n",
      "layer2 0.bn3.bias\n",
      "layer2 0.downsample.0.weight\n",
      "layer2 0.downsample.1.weight\n",
      "layer2 0.downsample.1.bias\n",
      "layer2 1.conv1.weight\n",
      "layer2 1.bn1.weight\n",
      "layer2 1.bn1.bias\n",
      "layer2 1.conv2.weight\n",
      "layer2 1.bn2.weight\n",
      "layer2 1.bn2.bias\n",
      "layer2 1.conv3.weight\n",
      "layer2 1.bn3.weight\n",
      "layer2 1.bn3.bias\n",
      "layer2 2.conv1.weight\n",
      "layer2 2.bn1.weight\n",
      "layer2 2.bn1.bias\n",
      "layer2 2.conv2.weight\n",
      "layer2 2.bn2.weight\n",
      "layer2 2.bn2.bias\n",
      "layer2 2.conv3.weight\n",
      "layer2 2.bn3.weight\n",
      "layer2 2.bn3.bias\n",
      "layer2 3.conv1.weight\n",
      "layer2 3.bn1.weight\n",
      "layer2 3.bn1.bias\n",
      "layer2 3.conv2.weight\n",
      "layer2 3.bn2.weight\n",
      "layer2 3.bn2.bias\n",
      "layer2 3.conv3.weight\n",
      "layer2 3.bn3.weight\n",
      "layer2 3.bn3.bias\n",
      "layer3 0.conv1.weight\n",
      "layer3 0.bn1.weight\n",
      "layer3 0.bn1.bias\n",
      "layer3 0.conv2.weight\n",
      "layer3 0.bn2.weight\n",
      "layer3 0.bn2.bias\n",
      "layer3 0.conv3.weight\n",
      "layer3 0.bn3.weight\n",
      "layer3 0.bn3.bias\n",
      "layer3 0.downsample.0.weight\n",
      "layer3 0.downsample.1.weight\n",
      "layer3 0.downsample.1.bias\n",
      "layer3 1.conv1.weight\n",
      "layer3 1.bn1.weight\n",
      "layer3 1.bn1.bias\n",
      "layer3 1.conv2.weight\n",
      "layer3 1.bn2.weight\n",
      "layer3 1.bn2.bias\n",
      "layer3 1.conv3.weight\n",
      "layer3 1.bn3.weight\n",
      "layer3 1.bn3.bias\n",
      "layer3 2.conv1.weight\n",
      "layer3 2.bn1.weight\n",
      "layer3 2.bn1.bias\n",
      "layer3 2.conv2.weight\n",
      "layer3 2.bn2.weight\n",
      "layer3 2.bn2.bias\n",
      "layer3 2.conv3.weight\n",
      "layer3 2.bn3.weight\n",
      "layer3 2.bn3.bias\n",
      "layer3 3.conv1.weight\n",
      "layer3 3.bn1.weight\n",
      "layer3 3.bn1.bias\n",
      "layer3 3.conv2.weight\n",
      "layer3 3.bn2.weight\n",
      "layer3 3.bn2.bias\n",
      "layer3 3.conv3.weight\n",
      "layer3 3.bn3.weight\n",
      "layer3 3.bn3.bias\n",
      "layer3 4.conv1.weight\n",
      "layer3 4.bn1.weight\n",
      "layer3 4.bn1.bias\n",
      "layer3 4.conv2.weight\n",
      "layer3 4.bn2.weight\n",
      "layer3 4.bn2.bias\n",
      "layer3 4.conv3.weight\n",
      "layer3 4.bn3.weight\n",
      "layer3 4.bn3.bias\n",
      "layer3 5.conv1.weight\n",
      "layer3 5.bn1.weight\n",
      "layer3 5.bn1.bias\n",
      "layer3 5.conv2.weight\n",
      "layer3 5.bn2.weight\n",
      "layer3 5.bn2.bias\n",
      "layer3 5.conv3.weight\n",
      "layer3 5.bn3.weight\n",
      "layer3 5.bn3.bias\n",
      "layer4 0.conv1.weight\n",
      "layer4 0.bn1.weight\n",
      "layer4 0.bn1.bias\n",
      "layer4 0.conv2.weight\n",
      "layer4 0.bn2.weight\n",
      "layer4 0.bn2.bias\n",
      "layer4 0.conv3.weight\n",
      "layer4 0.bn3.weight\n",
      "layer4 0.bn3.bias\n",
      "layer4 0.downsample.0.weight\n",
      "layer4 0.downsample.1.weight\n",
      "layer4 0.downsample.1.bias\n",
      "layer4 1.conv1.weight\n",
      "layer4 1.bn1.weight\n",
      "layer4 1.bn1.bias\n",
      "layer4 1.conv2.weight\n",
      "layer4 1.bn2.weight\n",
      "layer4 1.bn2.bias\n",
      "layer4 1.conv3.weight\n",
      "layer4 1.bn3.weight\n",
      "layer4 1.bn3.bias\n",
      "layer4 2.conv1.weight\n",
      "layer4 2.bn1.weight\n",
      "layer4 2.bn1.bias\n",
      "layer4 2.conv2.weight\n",
      "layer4 2.bn2.weight\n",
      "layer4 2.bn2.bias\n",
      "layer4 2.conv3.weight\n",
      "layer4 2.bn3.weight\n",
      "layer4 2.bn3.bias\n",
      "fc weight\n",
      "fc bias\n"
     ]
    }
   ],
   "source": [
    "for name, child in model_conv.named_children():\n",
    "    for name2, params in child.named_parameters():\n",
    "        print(name, name2)"
   ]
  }
 ],
 "metadata": {
  "kernelspec": {
   "display_name": "Python 3",
   "language": "python",
   "name": "python3"
  },
  "language_info": {
   "codemirror_mode": {
    "name": "ipython",
    "version": 3
   },
   "file_extension": ".py",
   "mimetype": "text/x-python",
   "name": "python",
   "nbconvert_exporter": "python",
   "pygments_lexer": "ipython3",
   "version": "3.6.9"
  }
 },
 "nbformat": 4,
 "nbformat_minor": 4
}
